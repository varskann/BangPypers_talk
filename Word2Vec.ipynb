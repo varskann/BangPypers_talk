{
  "nbformat": 4,
  "nbformat_minor": 0,
  "metadata": {
    "colab": {
      "name": "Word2Vec.ipynb",
      "provenance": [],
      "authorship_tag": "ABX9TyPJApN2iECPxqQQzo2FhfYI",
      "include_colab_link": true
    },
    "kernelspec": {
      "name": "python3",
      "display_name": "Python 3"
    },
    "language_info": {
      "name": "python"
    }
  },
  "cells": [
    {
      "cell_type": "markdown",
      "metadata": {
        "id": "view-in-github",
        "colab_type": "text"
      },
      "source": [
        "<a href=\"https://colab.research.google.com/github/varskann/BangPypers_talk/blob/main/Word2Vec.ipynb\" target=\"_parent\"><img src=\"https://colab.research.google.com/assets/colab-badge.svg\" alt=\"Open In Colab\"/></a>"
      ]
    },
    {
      "cell_type": "markdown",
      "metadata": {
        "id": "s4d5nYx1a5dJ"
      },
      "source": [
        "[# **What are Embeddings?**\n",
        "\n",
        "The very first step in building an ML model is to vectorize the data\n",
        "\n",
        "**Embeddings**: A numerical representation of data in a new high-dimension space\n",
        "](https://)"
      ]
    },
    {
      "cell_type": "markdown",
      "metadata": {
        "id": "e2fwkfI0ryrw"
      },
      "source": [
        "# **Why Embeddings?**\n",
        "\n",
        "The very first step in building an ML model is to vectorize the data\n",
        "\n",
        "**Embeddings**: A numerical representation of data in a new high-dimension space\n"
      ]
    },
    {
      "cell_type": "markdown",
      "metadata": {
        "id": "FAPE8Y0qVviK"
      },
      "source": [
        "# **What is Word2Vec?**\n",
        "Word2Vec is a classical method that creates word ***embeddings*** in the field of Natural Language Processing"
      ]
    },
    {
      "cell_type": "code",
      "metadata": {
        "id": "0oC0KnbQV11z"
      },
      "source": [
        ""
      ],
      "execution_count": null,
      "outputs": []
    }
  ]
}